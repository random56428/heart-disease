{
 "cells": [
  {
   "cell_type": "markdown",
   "id": "aeea90b0-dadf-4f5c-93c8-ee1711b4c50f",
   "metadata": {},
   "source": [
    "## Introduction"
   ]
  },
  {
   "cell_type": "markdown",
   "id": "d95efa54-64c4-4ca2-a309-3e861f90d5ab",
   "metadata": {},
   "source": [
    "1"
   ]
  },
  {
   "cell_type": "markdown",
   "id": "1b04bda7-c34f-4fb6-ad06-d6dbcf5a2028",
   "metadata": {},
   "source": [
    "## Preliminary Exploratory Data Analysis"
   ]
  },
  {
   "cell_type": "markdown",
   "id": "946aced5-ce41-48ba-96c2-2923d0002a72",
   "metadata": {},
   "source": []
  },
  {
   "cell_type": "code",
   "execution_count": null,
   "id": "d9652dc8-317b-4c78-9cda-1b8117cae4cc",
   "metadata": {},
   "outputs": [],
   "source": []
  },
  {
   "cell_type": "markdown",
   "id": "2e5c65ae-dd2a-4ba1-a54a-5f48146e0265",
   "metadata": {},
   "source": [
    "## Methods"
   ]
  },
  {
   "cell_type": "markdown",
   "id": "71a6e35c-0a8e-4432-9f1a-64de58d1d6a9",
   "metadata": {},
   "source": []
  },
  {
   "cell_type": "markdown",
   "id": "70a12c18-2a8a-4a2d-9361-19fc50f06d75",
   "metadata": {},
   "source": [
    "## Expected Outcomes and Significance"
   ]
  },
  {
   "cell_type": "markdown",
   "id": "420957f3-c28a-4c9a-8485-62257cf63371",
   "metadata": {},
   "source": []
  }
 ],
 "metadata": {
  "kernelspec": {
   "display_name": "R",
   "language": "R",
   "name": "ir"
  },
  "language_info": {
   "codemirror_mode": "r",
   "file_extension": ".r",
   "mimetype": "text/x-r-source",
   "name": "R",
   "pygments_lexer": "r",
   "version": "4.2.2"
  },
  "widgets": {
   "application/vnd.jupyter.widget-state+json": {
    "state": {},
    "version_major": 2,
    "version_minor": 0
   }
  }
 },
 "nbformat": 4,
 "nbformat_minor": 5
}
